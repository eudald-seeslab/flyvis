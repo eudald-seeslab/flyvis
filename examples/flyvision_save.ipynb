{
 "cells": [
  {
   "cell_type": "code",
   "execution_count": 1,
   "id": "initial_id",
   "metadata": {
    "collapsed": true,
    "ExecuteTime": {
     "end_time": "2024-01-19T07:07:25.178240286Z",
     "start_time": "2024-01-19T07:07:22.313151841Z"
    }
   },
   "outputs": [
    {
     "name": "stderr",
     "output_type": "stream",
     "text": [
      "/home/eudald/Desktop/doctorat/flyvis/venv/lib/python3.10/site-packages/torch/__init__.py:614: UserWarning: torch.set_default_tensor_type() is deprecated as of PyTorch 2.1, please use torch.set_default_dtype() and torch.set_default_device() as alternatives. (Triggered internally at ../torch/csrc/tensor/python_tensor.cpp:451.)\n",
      "  _C._set_default_tensor_type(t)\n"
     ]
    }
   ],
   "source": [
    "import numpy as np\n",
    "\n",
    "from examples.flyvision_ans import ResponseProcessor, DECODING_CELLS"
   ]
  },
  {
   "cell_type": "code",
   "outputs": [
    {
     "name": "stderr",
     "output_type": "stream",
     "text": [
      "100%|██████████| 100/100 [00:01<00:00, 55.48it/s]\n"
     ]
    }
   ],
   "source": [
    "# load the data\n",
    "response_processor = ResponseProcessor(\"../videos/yellow\")\n",
    "# compute the responses\n",
    "responses = response_processor.compute_responses()\n",
    "# compute the layer activations\n",
    "layer_activations = response_processor.compute_layer_activations(responses)"
   ],
   "metadata": {
    "collapsed": false,
    "ExecuteTime": {
     "end_time": "2024-01-19T07:07:59.964742491Z",
     "start_time": "2024-01-19T07:07:25.182240223Z"
    }
   },
   "id": "7b26c41f77c93d4e",
   "execution_count": 2
  },
  {
   "cell_type": "code",
   "outputs": [],
   "source": [
    "decoding_activations = []\n",
    "for layer in layer_activations:\n",
    "    decoding_activations.append({cell: layer[cell] for cell in DECODING_CELLS})"
   ],
   "metadata": {
    "collapsed": false,
    "ExecuteTime": {
     "end_time": "2024-01-19T07:12:44.574163203Z",
     "start_time": "2024-01-19T07:12:44.231275206Z"
    }
   },
   "id": "9c9aa89e81fed0ee",
   "execution_count": 18
  },
  {
   "cell_type": "code",
   "outputs": [],
   "source": [
    "# save decoding activations\n",
    "np.save(\"../parsed_objects/decoding_activations.npy\", decoding_activations)"
   ],
   "metadata": {
    "collapsed": false,
    "ExecuteTime": {
     "end_time": "2024-01-19T07:14:42.993307596Z",
     "start_time": "2024-01-19T07:14:42.092077190Z"
    }
   },
   "id": "61530eb5095806bd",
   "execution_count": 26
  },
  {
   "cell_type": "code",
   "outputs": [
    {
     "data": {
      "text/plain": "(50, 1, 84, 45669)"
     },
     "execution_count": 36,
     "metadata": {},
     "output_type": "execute_result"
    }
   ],
   "source": [
    "responses.shape"
   ],
   "metadata": {
    "collapsed": false,
    "ExecuteTime": {
     "end_time": "2024-01-19T06:28:32.077936894Z",
     "start_time": "2024-01-19T06:28:32.065557391Z"
    }
   },
   "id": "6696e31a261df4a6",
   "execution_count": 36
  },
  {
   "cell_type": "code",
   "outputs": [],
   "source": [],
   "metadata": {
    "collapsed": false
   },
   "id": "3ef387895b4bc2d9"
  }
 ],
 "metadata": {
  "kernelspec": {
   "display_name": "Python 3",
   "language": "python",
   "name": "python3"
  },
  "language_info": {
   "codemirror_mode": {
    "name": "ipython",
    "version": 2
   },
   "file_extension": ".py",
   "mimetype": "text/x-python",
   "name": "python",
   "nbconvert_exporter": "python",
   "pygments_lexer": "ipython2",
   "version": "2.7.6"
  }
 },
 "nbformat": 4,
 "nbformat_minor": 5
}
