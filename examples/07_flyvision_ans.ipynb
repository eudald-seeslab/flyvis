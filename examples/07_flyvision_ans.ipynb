{
 "cells": [
  {
   "cell_type": "markdown",
   "id": "0cb60e7d",
   "metadata": {},
   "source": [
    "# Providing custom stimuli\n",
    "\n",
    "Follow this notebook to learn how to use our models for generating hypothesis about neural computations with custom stimuli."
   ]
  },
  {
   "cell_type": "markdown",
   "id": "785107ea",
   "metadata": {},
   "source": [
    "## Example dataset\n",
    "\n",
    "We take the public [Moving MNIST](https://www.cs.toronto.edu/~nitish/unsupervised_video/) sequence dataset as an example for a custom stimulus dataset.\n",
    "Moving MNIST consists of short grey-scale videos of numbers from 1-10 which move in arbitrary directions. The dataset entails 10,000 sequences of 20 frames each. Individual frames are 64x64 pixels in height and width."
   ]
  },
  {
   "cell_type": "code",
   "execution_count": 1,
   "id": "4b0eec17",
   "metadata": {
    "ExecuteTime": {
     "end_time": "2024-01-05T19:19:35.303489405Z",
     "start_time": "2024-01-05T19:19:32.436051958Z"
    }
   },
   "outputs": [
    {
     "name": "stderr",
     "output_type": "stream",
     "text": [
      "/home/eudald/Desktop/doctorat/flyvis/venv/lib/python3.10/site-packages/torch/__init__.py:614: UserWarning: torch.set_default_tensor_type() is deprecated as of PyTorch 2.1, please use torch.set_default_dtype() and torch.set_default_device() as alternatives. (Triggered internally at ../torch/csrc/tensor/python_tensor.cpp:451.)\n",
      "  _C._set_default_tensor_type(t)\n"
     ]
    }
   ],
   "source": [
    "import os\n",
    "\n",
    "from typing import List\n",
    "from tqdm import tqdm\n",
    "import torch\n",
    "import numpy as np\n",
    "np.random.seed(42)\n",
    "import matplotlib.pyplot as plt\n",
    "plt.rcParams['figure.dpi'] = 200\n",
    "\n",
    "from pathlib import Path\n",
    "from datamate import root, Directory\n",
    "\n",
    "import flyvision\n",
    "from flyvision.utils.dataset_utils import load_moving_mnist\n",
    "from flyvision.datasets.base import SequenceDataset"
   ]
  },
  {
   "cell_type": "code",
   "outputs": [],
   "source": [
    "# Get npy array of sequences from video directory\n",
    "video_root_path = os.path.join(\"..\", \"videos\")\n",
    "blue_path = os.path.join(video_root_path, \"blue\")\n",
    "yellow_path = os.path.join(video_root_path, \"yellow\")\n",
    "blue_videos = [np.load(os.path.join(blue_path, a)) for a in os.listdir(blue_path)]\n",
    "# yellow_seq = np.load(os.path.join(\"..\", \"videos\", \"yellow\"))"
   ],
   "metadata": {
    "collapsed": false,
    "ExecuteTime": {
     "end_time": "2024-01-05T19:19:35.621272887Z",
     "start_time": "2024-01-05T19:19:35.292143709Z"
    }
   },
   "id": "90596a358bf20a0f",
   "execution_count": 2
  },
  {
   "cell_type": "code",
   "outputs": [],
   "source": [
    "def load_custom_sequences(video_dir):\n",
    "    videos = [np.load(os.path.join(video_dir, a)) for a in os.listdir(video_dir)]\n",
    "    # Take the average of the 3 color channels to get a single greyscale channel\n",
    "    # Create an array with the proper dimensions (n_sequences, n_frames, height, width)\n",
    "    return np.array([np.mean(a, axis=3) for a in videos])"
   ],
   "metadata": {
    "collapsed": false,
    "ExecuteTime": {
     "end_time": "2024-01-05T19:19:35.622945595Z",
     "start_time": "2024-01-05T19:19:35.617994114Z"
    }
   },
   "id": "388a06457e71e364",
   "execution_count": 3
  },
  {
   "cell_type": "markdown",
   "id": "619fd4b5",
   "metadata": {},
   "source": [
    "## BoxEye rendering\n",
    "\n",
    "##### Rendering cartesian images to hexagonal lattice\n",
    "\n",
    "We translate cartesian frames into receptor activations by placing simulated photoreceptors in a two-dimensional hexagonal array in pixel space (blue dots below), 31 columns across resulting in 721 columns in total, spaced 13 pixels apart. The transduced luminance at each photoreceptor is the greyscale mean value in the 13×13-pixel region surrounding it (black boxes)."
   ]
  },
  {
   "cell_type": "markdown",
   "id": "0968ca3c",
   "metadata": {},
   "source": [
    "### Render a single frame\n",
    "\n",
    "To illustrate, this is what rendering a single frame looks like."
   ]
  },
  {
   "cell_type": "markdown",
   "id": "022f3e02",
   "metadata": {},
   "source": [
    "## Render a whole dataset to disk\n",
    "\n",
    "We save rendered sequences to disk to retrieve them faster at runtime.\n",
    "\n",
    "We will use our library datamate here because it provides a powerful interface for writing and reading arrayfiles."
   ]
  },
  {
   "cell_type": "code",
   "execution_count": 4,
   "id": "72397f24",
   "metadata": {
    "ExecuteTime": {
     "end_time": "2024-01-05T19:19:35.638751544Z",
     "start_time": "2024-01-05T19:19:35.624212556Z"
    }
   },
   "outputs": [],
   "source": [
    "import os\n",
    "# the Directory class is a smart pointer to a specific directory\n",
    "# on the filesystem\n",
    "\n",
    "# directory to store the rendered custom stimuli\n",
    "rendered_data_dest = flyvision.root_dir\n",
    "\n",
    "class RenderedData():\n",
    "\n",
    "    def __init__(self, config: dict):\n",
    "        \n",
    "        # here comes the preprocessing and rendering as above or similar -- depending on the dataset etc.\n",
    "        # this code will be executed automatically once for each unique configuration to store preprocessed\n",
    "        # data on disk and later simply provide a reference to it.\n",
    "        sequences = load_custom_sequences(\"../videos/blue\")\n",
    "\n",
    "        # we use the configuration to control the settings under which we render the stimuli\n",
    "        receptors = flyvision.rendering.BoxEye(\n",
    "            extent=config.get(\"extent\"), kernel_size=config.get(\"kernel_size\")\n",
    "        )\n",
    "\n",
    "        # for memory-friendly rendering we can loop over individual sequences\n",
    "        # and subsets of the dataset\n",
    "        rendered_sequences = []\n",
    "        subset_idx = getattr(config, \"subset_idx\", []) or list(\n",
    "            range(sequences.shape[0])\n",
    "        )\n",
    "        with tqdm(total=len(subset_idx)) as pbar:\n",
    "            for index in subset_idx:\n",
    "                rendered_sequences.append(receptors(sequences[[index]]).cpu().numpy())\n",
    "                pbar.update()\n",
    "\n",
    "        # to join individual sequences along their first dimension\n",
    "        # to obtain (n_sequences, n_frames, 1, receptors.hexals)\n",
    "        rendered_sequences = np.concatenate(rendered_sequences, axis=0)\n",
    "\n",
    "        # the __setattr__ method of the Directory class saves sequences to self.path/\"sequences.h5\"\n",
    "        # that can be later retrieved using self.sequences[:]\n",
    "        self.sequences = rendered_sequences"
   ]
  },
  {
   "cell_type": "code",
   "execution_count": 5,
   "id": "6a0f656f",
   "metadata": {
    "ExecuteTime": {
     "end_time": "2024-01-05T19:19:54.113040597Z",
     "start_time": "2024-01-05T19:19:38.637919297Z"
    }
   },
   "outputs": [
    {
     "name": "stderr",
     "output_type": "stream",
     "text": [
      "100%|██████████| 100/100 [00:01<00:00, 55.89it/s]\n"
     ]
    }
   ],
   "source": [
    "# note, to render the whole dataset provide an empty list for `subset_idx` or delete the key word argument \n",
    "moving_custom_rendered = RenderedData(dict({\"extent\": 15, \"kernel_size\": 13, \"subset_idx\": [0, 1, 2, 3]}))"
   ]
  },
  {
   "cell_type": "code",
   "execution_count": 6,
   "id": "329f16d9",
   "metadata": {
    "ExecuteTime": {
     "end_time": "2024-01-05T19:19:54.114661706Z",
     "start_time": "2024-01-05T19:19:54.096291659Z"
    }
   },
   "outputs": [],
   "source": [
    "# this is how we can retrieve the sequences from the disk into memory\n",
    "rendered_sequences = moving_custom_rendered.sequences[:]"
   ]
  },
  {
   "cell_type": "code",
   "execution_count": 7,
   "id": "88363b61",
   "metadata": {
    "ExecuteTime": {
     "end_time": "2024-01-05T19:19:54.116393622Z",
     "start_time": "2024-01-05T19:19:54.096431861Z"
    }
   },
   "outputs": [
    {
     "data": {
      "text/plain": "(100, 20, 1, 721)"
     },
     "execution_count": 7,
     "metadata": {},
     "output_type": "execute_result"
    }
   ],
   "source": [
    "rendered_sequences.shape"
   ]
  },
  {
   "cell_type": "code",
   "execution_count": 8,
   "id": "3125935c",
   "metadata": {
    "scrolled": false,
    "ExecuteTime": {
     "end_time": "2024-01-05T19:19:54.118194812Z",
     "start_time": "2024-01-05T19:19:54.096498967Z"
    }
   },
   "outputs": [],
   "source": [
    "animation = flyvision.animations.HexScatter(rendered_sequences, vmin=0, vmax=256)\n",
    "# animation.animate_in_notebook()"
   ]
  },
  {
   "cell_type": "code",
   "execution_count": 29,
   "id": "d430a147",
   "metadata": {},
   "outputs": [],
   "source": [
    "# Note, to delete a Directory, e.g. to change the __init__ and reinstantiate,\n",
    "# run moving_mnist_rendered.rmtree(\"y\")."
   ]
  },
  {
   "cell_type": "markdown",
   "id": "e83cf57d",
   "metadata": {},
   "source": [
    "## Create a sequence dataset\n",
    "\n",
    "Next we create a Pytorch dataset for loading the sequences."
   ]
  },
  {
   "cell_type": "code",
   "outputs": [],
   "source": [
    "class CustomStimuli(SequenceDataset):\n",
    "    \n",
    "    # implementing the SequenceDataset interface \n",
    "    dt = 1/100\n",
    "    framerate = 24\n",
    "    t_pre = 0.5\n",
    "    t_post = 0.5\n",
    "    n_sequences = None\n",
    "    augment = False\n",
    "    \n",
    "    def __init__(self, rendered_data_config: dict):\n",
    "        self.dir = RenderedData(rendered_data_config)\n",
    "        self.sequences = torch.Tensor(self.dir.sequences[:])\n",
    "        self.n_sequences = self.sequences.shape[0]\n",
    "\n",
    "    def get_item(self, key):\n",
    "        sequence = self.sequences[key]\n",
    "        # to match the framerate to the integration time dt, we can resample frames\n",
    "        # from these indices. note, when dt = 1/framerate, this will return the exact sequence\n",
    "        resample = self.get_temporal_sample_indices(sequence.shape[0], sequence.shape[0])\n",
    "        return sequence[resample]"
   ],
   "metadata": {
    "collapsed": false,
    "ExecuteTime": {
     "end_time": "2024-01-05T19:19:54.119816056Z",
     "start_time": "2024-01-05T19:19:54.096544868Z"
    }
   },
   "id": "255310a0",
   "execution_count": 9
  },
  {
   "cell_type": "code",
   "execution_count": 10,
   "id": "a3d91b24",
   "metadata": {
    "ExecuteTime": {
     "end_time": "2024-01-05T19:20:07.493657895Z",
     "start_time": "2024-01-05T19:19:54.096596550Z"
    }
   },
   "outputs": [
    {
     "name": "stderr",
     "output_type": "stream",
     "text": [
      "100%|██████████| 100/100 [00:01<00:00, 79.12it/s]\n"
     ]
    }
   ],
   "source": [
    "# note, to render the whole dataset provide an empty list for `subset_idx` or delete the key word argument \n",
    "data = CustomStimuli(dict(extent=15, kernel_size=13, subset_idx=[0, 1, 2, 3]))"
   ]
  },
  {
   "cell_type": "code",
   "execution_count": 11,
   "id": "81b2b798",
   "metadata": {
    "ExecuteTime": {
     "end_time": "2024-01-05T19:20:07.495242909Z",
     "start_time": "2024-01-05T19:20:07.492091386Z"
    }
   },
   "outputs": [
    {
     "data": {
      "text/plain": "torch.Size([84, 1, 721])"
     },
     "execution_count": 11,
     "metadata": {},
     "output_type": "execute_result"
    }
   ],
   "source": [
    "data[0].shape"
   ]
  },
  {
   "cell_type": "code",
   "execution_count": 6,
   "id": "e2a89868",
   "metadata": {},
   "outputs": [
    {
     "data": {
      "text/plain": "<Figure size 200x200 with 2 Axes>",
      "image/png": "[encoded data removed]"
     },
     "metadata": {
      "needs_background": "light"
     },
     "output_type": "display_data"
    }
   ],
   "source": [
    "animation = flyvision.animations.HexScatter(data[0][None], vmin=0, vmax=1)\n",
    "# animation.animate_in_notebook()"
   ]
  },
  {
   "cell_type": "markdown",
   "id": "8c80e6d1",
   "metadata": {},
   "source": [
    "## Compute model responses to custom stimuli\n",
    "\n",
    "Now, we can compute model responses across individual models or the whole ensemble to our custom stimulus."
   ]
  },
  {
   "cell_type": "markdown",
   "id": "80a4bfa0",
   "metadata": {},
   "source": [
    "##### Select a pretrained network\n",
    "\n",
    "To select a network from the ensemble of 50 pretrained networks, let's see what our options are.\n",
    "\n",
    "Paths to pretrained models from the ensemble end with four digit numbers which are sorted by task error (0-49 from best to worst)."
   ]
  },
  {
   "cell_type": "code",
   "execution_count": 12,
   "id": "b9ad7c0a",
   "metadata": {
    "ExecuteTime": {
     "end_time": "2024-01-05T19:20:31.496953478Z",
     "start_time": "2024-01-05T19:20:31.473554842Z"
    }
   },
   "outputs": [
    {
     "data": {
      "text/plain": "[PosixPath('opticflow/000/0000'),\n PosixPath('opticflow/000/0001'),\n PosixPath('opticflow/000/0002'),\n PosixPath('opticflow/000/0003'),\n PosixPath('opticflow/000/0004'),\n PosixPath('opticflow/000/0005'),\n PosixPath('opticflow/000/0006'),\n PosixPath('opticflow/000/0007'),\n PosixPath('opticflow/000/0008'),\n PosixPath('opticflow/000/0009'),\n PosixPath('opticflow/000/0010'),\n PosixPath('opticflow/000/0011'),\n PosixPath('opticflow/000/0012'),\n PosixPath('opticflow/000/0013'),\n PosixPath('opticflow/000/0014'),\n PosixPath('opticflow/000/0015'),\n PosixPath('opticflow/000/0016'),\n PosixPath('opticflow/000/0017'),\n PosixPath('opticflow/000/0018'),\n PosixPath('opticflow/000/0019'),\n PosixPath('opticflow/000/0020'),\n PosixPath('opticflow/000/0021'),\n PosixPath('opticflow/000/0022'),\n PosixPath('opticflow/000/0023'),\n PosixPath('opticflow/000/0024'),\n PosixPath('opticflow/000/0025'),\n PosixPath('opticflow/000/0026'),\n PosixPath('opticflow/000/0027'),\n PosixPath('opticflow/000/0028'),\n PosixPath('opticflow/000/0029'),\n PosixPath('opticflow/000/0030'),\n PosixPath('opticflow/000/0031'),\n PosixPath('opticflow/000/0032'),\n PosixPath('opticflow/000/0033'),\n PosixPath('opticflow/000/0034'),\n PosixPath('opticflow/000/0035'),\n PosixPath('opticflow/000/0036'),\n PosixPath('opticflow/000/0037'),\n PosixPath('opticflow/000/0038'),\n PosixPath('opticflow/000/0039'),\n PosixPath('opticflow/000/0040'),\n PosixPath('opticflow/000/0041'),\n PosixPath('opticflow/000/0042'),\n PosixPath('opticflow/000/0043'),\n PosixPath('opticflow/000/0044'),\n PosixPath('opticflow/000/0045'),\n PosixPath('opticflow/000/0046'),\n PosixPath('opticflow/000/0047'),\n PosixPath('opticflow/000/0048'),\n PosixPath('opticflow/000/0049')]"
     },
     "execution_count": 12,
     "metadata": {},
     "output_type": "execute_result"
    }
   ],
   "source": [
    "sorted(\n",
    "    [\n",
    "        p.relative_to(flyvision.results_dir)\n",
    "        for p in (flyvision.results_dir / \"opticflow/000\").iterdir()\n",
    "        if p.name.isnumeric()\n",
    "    ]\n",
    ")"
   ]
  },
  {
   "cell_type": "markdown",
   "id": "4f45367e",
   "metadata": {},
   "source": [
    "We use the `NetworkView` class to point to a model. This object can implement plots plus methods to initialize network, stimuli etc. "
   ]
  },
  {
   "cell_type": "code",
   "execution_count": 13,
   "id": "918d2fa1",
   "metadata": {
    "ExecuteTime": {
     "end_time": "2024-01-05T19:20:34.132236598Z",
     "start_time": "2024-01-05T19:20:34.087810434Z"
    }
   },
   "outputs": [],
   "source": [
    "network_view = flyvision.network.NetworkView(flyvision.results_dir / \"opticflow/000/0000\")"
   ]
  },
  {
   "cell_type": "code",
   "execution_count": 14,
   "id": "4635a154",
   "metadata": {
    "ExecuteTime": {
     "end_time": "2024-01-05T19:20:40.246691599Z",
     "start_time": "2024-01-05T19:20:35.475953791Z"
    }
   },
   "outputs": [],
   "source": [
    "# to load the Pytorch module with pretrained parameters\n",
    "network = network_view.init_network(chkpt=\"best_chkpt\")"
   ]
  },
  {
   "cell_type": "code",
   "execution_count": 15,
   "id": "62865670",
   "metadata": {
    "ExecuteTime": {
     "end_time": "2024-01-05T19:20:40.252069972Z",
     "start_time": "2024-01-05T19:20:40.249103292Z"
    }
   },
   "outputs": [],
   "source": [
    "movie_input = data[0]"
   ]
  },
  {
   "cell_type": "code",
   "execution_count": 16,
   "id": "43857246",
   "metadata": {
    "ExecuteTime": {
     "end_time": "2024-01-05T19:20:40.317753900Z",
     "start_time": "2024-01-05T19:20:40.292159730Z"
    }
   },
   "outputs": [
    {
     "data": {
      "text/plain": "torch.Size([84, 1, 721])"
     },
     "execution_count": 16,
     "metadata": {},
     "output_type": "execute_result"
    }
   ],
   "source": [
    "movie_input.shape"
   ]
  },
  {
   "cell_type": "markdown",
   "id": "58269821",
   "metadata": {},
   "source": [
    "##### Compute a stationary state\n",
    "\n",
    "We initialize the network at a stationary state, to remove transient responses due to stimulus onset from functional stimulus responses like motion detection. The network provides two methods for stationary state computation `network.fade_in_state` and `network.steady_state`. We use `fade_in_state` here, which slowly ramps up\n",
    "the intensity of the first frame in the sequence to compute a stationary state that minimizes the transient response. The method `steady_state` computes a sequence-independent stationary state by providing a whole-field grey-scale stimulus at medium intensity (but it does not get rid of a transient response)."
   ]
  },
  {
   "cell_type": "code",
   "execution_count": 17,
   "id": "6a632d6a",
   "metadata": {
    "ExecuteTime": {
     "end_time": "2024-01-05T19:20:44.287681242Z",
     "start_time": "2024-01-05T19:20:44.198621519Z"
    }
   },
   "outputs": [],
   "source": [
    "stationary_state = network.fade_in_state(1.0, data.dt, movie_input[[0]])"
   ]
  },
  {
   "cell_type": "markdown",
   "id": "58d2d6b5",
   "metadata": {},
   "source": [
    "##### Obtain network responses\n",
    "\n",
    "A convenient way to obtain network responses is to call `network.simulate`\n",
    "which calls the forward function of the Pytorch module without tracking gradients\n",
    "(plus it provides a simpler interface than `network.forward` because it already maps stimulus to receptors using the `network.stimulus` attribute)."
   ]
  },
  {
   "cell_type": "code",
   "execution_count": 18,
   "id": "2faa8c84",
   "metadata": {
    "ExecuteTime": {
     "end_time": "2024-01-05T19:20:47.633884046Z",
     "start_time": "2024-01-05T19:20:47.590124824Z"
    }
   },
   "outputs": [],
   "source": [
    "# For analysis, we move the returned tensor to cpu.\n",
    "responses = network.simulate(movie_input[None], data.dt, initial_state=stationary_state).cpu()"
   ]
  },
  {
   "cell_type": "code",
   "execution_count": 19,
   "id": "c20bf7b9",
   "metadata": {
    "ExecuteTime": {
     "end_time": "2024-01-05T19:20:48.211477972Z",
     "start_time": "2024-01-05T19:20:48.206006126Z"
    }
   },
   "outputs": [
    {
     "data": {
      "text/plain": "torch.Size([1, 84, 45669])"
     },
     "execution_count": 19,
     "metadata": {},
     "output_type": "execute_result"
    }
   ],
   "source": [
    "responses.shape"
   ]
  },
  {
   "cell_type": "markdown",
   "id": "b6a76d97",
   "metadata": {},
   "source": [
    "##### Visualize responses of specific cells"
   ]
  },
  {
   "cell_type": "code",
   "outputs": [],
   "source": [
    "from flyvision.utils.activity_utils import LayerActivity\n",
    "from flyvision.animations import StimulusResponse"
   ],
   "metadata": {
    "collapsed": false,
    "ExecuteTime": {
     "end_time": "2024-01-05T19:22:26.707131733Z",
     "start_time": "2024-01-05T19:22:26.582481378Z"
    }
   },
   "id": "c0dccf69f3b5f43e",
   "execution_count": 20
  },
  {
   "cell_type": "markdown",
   "id": "a50a4b3c",
   "metadata": {},
   "source": [
    "`LayerActivity` is an interface to the response tensor of 45k cells that allows dict- and attribute-style access to the responses of individual cell types and to the responses of their central cells."
   ]
  },
  {
   "cell_type": "code",
   "execution_count": 21,
   "id": "a6a148c3",
   "metadata": {
    "ExecuteTime": {
     "end_time": "2024-01-05T19:22:28.798067791Z",
     "start_time": "2024-01-05T19:22:28.645614840Z"
    }
   },
   "outputs": [],
   "source": [
    "responses = LayerActivity(responses, network.connectome, keepref=True)"
   ]
  },
  {
   "cell_type": "code",
   "outputs": [
    {
     "data": {
      "text/plain": "Activity of: \nR1, R2, R3, R4, R5, R6, R7, R8, L1, L2, L3, L4, L5, Lawf1, Lawf2, Am,\nC2, C3, CT1(Lo1), CT1(M10), Mi1, Mi2, Mi3, Mi4, Mi9, Mi10, Mi11, Mi12,\nMi13, Mi14, Mi15, T1, T2, T2a, T3, T4a, T4b, T4c, T4d, T5a, T5b, T5c,\nT5d, Tm1, Tm2, Tm3, Tm4, Tm5Y, Tm5a, Tm5b, Tm5c, Tm9, Tm16, Tm20,\nTm28, Tm30, TmY3, TmY4, TmY5a, TmY9, TmY10, TmY13, TmY14, TmY15, TmY18"
     },
     "execution_count": 26,
     "metadata": {},
     "output_type": "execute_result"
    }
   ],
   "source": [
    "responses"
   ],
   "metadata": {
    "collapsed": false,
    "ExecuteTime": {
     "end_time": "2024-01-05T19:30:29.992224034Z",
     "start_time": "2024-01-05T19:30:29.946696966Z"
    }
   },
   "id": "77a364c1e07ce1e2",
   "execution_count": 26
  },
  {
   "cell_type": "code",
   "execution_count": 32,
   "id": "f1a66a70",
   "metadata": {
    "ExecuteTime": {
     "end_time": "2024-01-05T19:34:18.467581225Z",
     "start_time": "2024-01-05T19:34:18.464664509Z"
    }
   },
   "outputs": [],
   "source": [
    "cell_type = \"TmY15\""
   ]
  },
  {
   "cell_type": "markdown",
   "id": "d64eb4f7",
   "metadata": {},
   "source": [
    "The stimulus on the left, and the response on the right described by passive point neuron voltage dynamics. Cells depolarize (red) and hyperpolarize (blue) in response to the stimulus. A single \"hexal\" corresponds to one neuron of the cell type."
   ]
  },
  {
   "cell_type": "code",
   "execution_count": 33,
   "id": "ad1e867d",
   "metadata": {},
   "outputs": [
    {
     "data": {
      "text/plain": "<Figure size 1456.69x275.591 with 3 Axes>",
      "image/png": "[encoded data removed]"
     },
     "metadata": {
      "needs_background": "light"
     },
     "output_type": "display_data"
    }
   ],
   "source": [
    "anim = StimulusResponse(\n",
    "    movie_input[None],\n",
    "    responses[cell_type][:, :, None]\n",
    ")\n",
    "anim.animate_in_notebook(frames=np.arange(anim.frames)[::2])"
   ]
  },
  {
   "cell_type": "markdown",
   "id": "efac1f9c",
   "metadata": {},
   "source": [
    "\n",
    "Often, we are interested in a canonical response of a specific cell type to a specific stimulus to generate hypotheses for their role in a computation. In our model, we can take the central cell as a proxy for all cells of the given type, because cells share their parameters and in- and output connections. I.e. the responses of all cells of a given type would be the same (not taking boundary effects into account) when the same stimulus would cross their identical but spatially offset receptive field in the same way."
   ]
  },
  {
   "cell_type": "code",
   "execution_count": 34,
   "id": "51883677",
   "metadata": {
    "ExecuteTime": {
     "end_time": "2024-01-05T19:37:30.215807830Z",
     "start_time": "2024-01-05T19:37:30.156980765Z"
    }
   },
   "outputs": [],
   "source": [
    "n_frames = movie_input.shape[0]\n",
    "time = np.arange(0, n_frames * data.dt, data.dt)"
   ]
  },
  {
   "cell_type": "code",
   "execution_count": 35,
   "id": "95409433",
   "metadata": {
    "ExecuteTime": {
     "end_time": "2024-01-05T19:37:30.768698213Z",
     "start_time": "2024-01-05T19:37:30.583262461Z"
    }
   },
   "outputs": [
    {
     "data": {
      "text/plain": "Text(0, 0.5, 'central response (a.u.)')"
     },
     "execution_count": 35,
     "metadata": {},
     "output_type": "execute_result"
    },
    {
     "data": {
      "text/plain": "<Figure size 400x400 with 1 Axes>",
      "image/png": "[encoded data removed]"
     },
     "metadata": {},
     "output_type": "display_data"
    }
   ],
   "source": [
    "fig, ax = flyvision.plots.plt_utils.init_plot([2, 2], fontsize=5)\n",
    "ax.plot(time, responses.central[cell_type].squeeze())\n",
    "ax.set_xlabel(\"time in s\", fontsize=5)\n",
    "ax.set_ylabel(\"central response (a.u.)\", fontsize=5)"
   ]
  },
  {
   "cell_type": "markdown",
   "id": "146d4a6c",
   "metadata": {},
   "source": [
    "## Compute responses over the whole ensemble"
   ]
  },
  {
   "cell_type": "markdown",
   "id": "dc8121ee",
   "metadata": {},
   "source": [
    "In addition to looking at individual models, we next compute responses across the whole ensemble at once to look at them jointly."
   ]
  },
  {
   "cell_type": "code",
   "execution_count": 25,
   "id": "637389f6",
   "metadata": {
    "ExecuteTime": {
     "end_time": "2024-01-05T18:08:30.386973976Z",
     "start_time": "2024-01-05T18:08:30.339730046Z"
    }
   },
   "outputs": [],
   "source": [
    "from typing import List\n",
    "from tqdm import tqdm\n",
    "import torch\n",
    "import numpy as np\n",
    "np.random.seed(42)\n",
    "import matplotlib.pyplot as plt\n",
    "plt.rcParams['figure.dpi'] = 200\n",
    "\n",
    "from pathlib import Path\n",
    "from datamate import root, Directory\n",
    "\n",
    "import flyvision\n",
    "from flyvision.utils.dataset_utils import load_moving_mnist\n",
    "from flyvision.datasets.base import SequenceDataset\n",
    "from flyvision.utils.activity_utils import LayerActivity\n",
    "from flyvision.animations import StimulusResponse\n",
    "from flyvision.ensemble import EnsembleView"
   ]
  },
  {
   "cell_type": "code",
   "execution_count": 26,
   "id": "340d2d14",
   "metadata": {
    "ExecuteTime": {
     "end_time": "2024-01-05T18:08:30.741224268Z",
     "start_time": "2024-01-05T18:08:30.708126336Z"
    }
   },
   "outputs": [],
   "source": [
    "# the Directory class is a smart pointer to a specific directory\n",
    "# on the filesystem\n",
    "\n",
    "# directory to store the rendered custom stimuli\n",
    "rendered_data_dest = flyvision.root_dir / \"custom_stimuli\"\n",
    "\n",
    "\n",
    "# root tells where the Directory-tree starts\n",
    "@root(rendered_data_dest)\n",
    "class RenderedData(Directory):\n",
    "    class Config(dict):\n",
    "        extent: int  # radius, in number of receptors of the hexagonal array.\n",
    "        kernel_size: int  # photon collection radius, in pixels.\n",
    "        subset_idx: List[int]  # if specified, subset of sequences to render\n",
    "\n",
    "    def __init__(self, config: Config):\n",
    "        # here comes the preprocessing and rendering as above or similar -- depending on the dataset etc.\n",
    "        # this code will be executed automatically once for each unique configuration to store preprocessed\n",
    "        # data on disk and later simply provide a reference to it.\n",
    "        sequences = load_moving_mnist()\n",
    "\n",
    "        # we use the configuration to control the settings under which we render the stimuli\n",
    "        receptors = flyvision.rendering.BoxEye(\n",
    "            extent=config.extent, kernel_size=config.kernel_size\n",
    "        )\n",
    "\n",
    "        # for memory-friendly rendering we can loop over individual sequences\n",
    "        # and subsets of the dataset\n",
    "        rendered_sequences = []\n",
    "        subset_idx = getattr(config, \"subset_idx\", []) or list(\n",
    "            range(sequences.shape[0])\n",
    "        )\n",
    "        with tqdm(total=len(subset_idx)) as pbar:\n",
    "            for index in subset_idx:\n",
    "                rendered_sequences.append(receptors(sequences[[index]]).cpu().numpy())\n",
    "                pbar.update()\n",
    "\n",
    "        # to join individual sequences along their first dimension\n",
    "        # to obtain (n_sequences, n_frames, 1, receptors.hexals)\n",
    "        rendered_sequences = np.concatenate(rendered_sequences, axis=0)\n",
    "\n",
    "        # the __setattr__ method of the Directory class saves sequences to self.path/\"sequences.h5\"\n",
    "        # that can be later retrieved using self.sequences[:]\n",
    "        self.sequences = rendered_sequences"
   ]
  },
  {
   "cell_type": "code",
   "execution_count": 27,
   "id": "b6fa6700",
   "metadata": {
    "ExecuteTime": {
     "end_time": "2024-01-05T18:08:31.866549915Z",
     "start_time": "2024-01-05T18:08:31.791682384Z"
    }
   },
   "outputs": [],
   "source": [
    "class CustomStimuli(SequenceDataset):\n",
    "    \n",
    "    # implementing the SequenceDataset interface \n",
    "    dt = 1/100\n",
    "    framerate = 24\n",
    "    t_pre = 0.5\n",
    "    t_post = 0.5\n",
    "    n_sequences = None\n",
    "    augment = False\n",
    "    \n",
    "    def __init__(self, rendered_data_config: dict):\n",
    "        self.dir = RenderedData(rendered_data_config)\n",
    "        self.sequences = torch.Tensor(self.dir.sequences[:])\n",
    "        self.n_sequences = self.sequences.shape[0]\n",
    "\n",
    "    def get_item(self, key):\n",
    "        sequence = self.sequences[key]\n",
    "        # to match the framerate to the integration time dt, we can resample frames\n",
    "        # from these indices. note, when dt = 1/framerate, this will return the exact sequence\n",
    "        resample = self.get_temporal_sample_indices(sequence.shape[0], sequence.shape[0])\n",
    "        return sequence[resample]"
   ]
  },
  {
   "cell_type": "code",
   "execution_count": 28,
   "id": "6c30c94e",
   "metadata": {
    "ExecuteTime": {
     "end_time": "2024-01-05T18:08:33.186320154Z",
     "start_time": "2024-01-05T18:08:33.135384627Z"
    }
   },
   "outputs": [],
   "source": [
    "# note, to render the whole dataset provide an empty list for `subset_idx` or delete the key word argument \n",
    "data = CustomStimuli(dict(extent=15, kernel_size=13, subset_idx=[0, 1, 2, 3]))"
   ]
  },
  {
   "cell_type": "markdown",
   "id": "51a8861c",
   "metadata": {},
   "source": [
    "##### Select the pretrained ensemble\n",
    "\n",
    "Similar to the `NetworkView` object, the `EnsembleView` object points to an ensemble and implements plots plus methods to initialize networks, stimuli etc. This object provides dict- and attribute-style access to individual `NetworkView` instances."
   ]
  },
  {
   "cell_type": "code",
   "execution_count": 29,
   "id": "dbcbf324",
   "metadata": {
    "ExecuteTime": {
     "end_time": "2024-01-05T18:08:38.748856217Z",
     "start_time": "2024-01-05T18:08:37.554672713Z"
    }
   },
   "outputs": [],
   "source": [
    "ensemble = EnsembleView(flyvision.results_dir / \"opticflow/000\")"
   ]
  },
  {
   "cell_type": "markdown",
   "id": "3599702f",
   "metadata": {},
   "source": [
    "##### Simulate responses for each network"
   ]
  },
  {
   "cell_type": "code",
   "execution_count": 30,
   "id": "9172f265",
   "metadata": {
    "ExecuteTime": {
     "end_time": "2024-01-05T18:08:38.754861383Z",
     "start_time": "2024-01-05T18:08:38.750633311Z"
    }
   },
   "outputs": [],
   "source": [
    "movie_input = data[0]"
   ]
  },
  {
   "cell_type": "markdown",
   "id": "dd02995f",
   "metadata": {},
   "source": [
    "`ensemble.simulate` provides an efficient method to return responses of all networks within the ensemble."
   ]
  },
  {
   "cell_type": "code",
   "execution_count": 31,
   "id": "90e34ba9",
   "metadata": {
    "ExecuteTime": {
     "end_time": "2024-01-05T18:08:48.706527950Z",
     "start_time": "2024-01-05T18:08:40.453738602Z"
    }
   },
   "outputs": [],
   "source": [
    "# ensemble.simulate returns an iterator over `network.simulate` for each network.\n",
    "# we exhaust it and stack responses from all models in the first dimension\n",
    "responses = np.array(list(ensemble.simulate(movie_input[None], data.dt, fade_in=True)))"
   ]
  },
  {
   "cell_type": "code",
   "execution_count": 32,
   "id": "b5fb8e4d",
   "metadata": {
    "ExecuteTime": {
     "end_time": "2024-01-05T18:08:48.713590688Z",
     "start_time": "2024-01-05T18:08:48.708211673Z"
    }
   },
   "outputs": [
    {
     "data": {
      "text/plain": "(50, 1, 84, 45669)"
     },
     "execution_count": 32,
     "metadata": {},
     "output_type": "execute_result"
    }
   ],
   "source": [
    "# dims are (n_models, n_sequences, n_frames, n_cells)\n",
    "responses.shape"
   ]
  }
 ],
 "metadata": {
  "kernelspec": {
   "display_name": "Python 3 (ipykernel)",
   "language": "python",
   "name": "python3"
  },
  "language_info": {
   "codemirror_mode": {
    "name": "ipython",
    "version": 3
   },
   "file_extension": ".py",
   "mimetype": "text/x-python",
   "name": "python",
   "nbconvert_exporter": "python",
   "pygments_lexer": "ipython3",
   "version": "3.9.16"
  },
  "toc": {
   "base_numbering": 1,
   "nav_menu": {},
   "number_sections": true,
   "sideBar": false,
   "skip_h1_title": false,
   "title_cell": "Table of Contents",
   "title_sidebar": "Contents",
   "toc_cell": false,
   "toc_position": {},
   "toc_section_display": false,
   "toc_window_display": true
  },
  "varInspector": {
   "cols": {
    "lenName": 16,
    "lenType": 16,
    "lenVar": 40
   },
   "kernels_config": {
    "python": {
     "delete_cmd_postfix": "",
     "delete_cmd_prefix": "del ",
     "library": "var_list.py",
     "varRefreshCmd": "print(var_dic_list())"
    },
    "r": {
     "delete_cmd_postfix": ") ",
     "delete_cmd_prefix": "rm(",
     "library": "var_list.r",
     "varRefreshCmd": "cat(var_dic_list()) "
    }
   },
   "types_to_exclude": [
    "module",
    "function",
    "builtin_function_or_method",
    "instance",
    "_Feature"
   ],
   "window_display": false
  }
 },
 "nbformat": 4,
 "nbformat_minor": 5
}
